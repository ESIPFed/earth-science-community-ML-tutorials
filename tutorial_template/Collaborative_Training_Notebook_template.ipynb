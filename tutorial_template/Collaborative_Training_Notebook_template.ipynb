{
  "nbformat": 4,
  "nbformat_minor": 0,
  "metadata": {
    "colab": {
      "name": "Collaborative_Training_Notebook_template.ipynb",
      "provenance": [],
      "collapsed_sections": []
    },
    "kernelspec": {
      "name": "python3",
      "display_name": "Python 3"
    }
  },
  "cells": [
    {
      "cell_type": "markdown",
      "metadata": {
        "id": "OKN8cYf3erXb"
      },
      "source": [
        "### Collaborative Training Notebook Template (note to content creator)\n",
        "The purpose of the Training Notebook Template is to make sure that material has a uniform appearance and that contain similarly structured material across different communities of practices. The main sections are:\n",
        "* __Overview__ of the broad topic covered\n",
        "  * __Prerequisites__ for what background information is needed to go through the notebook\n",
        "  * __Targeted level__ of this notebook\n",
        "  * __Learning outcomes__ from completing the notebook\n",
        "* The __Tutorial__ with a balance of explanation and activity\n",
        "* __Exercises__ for students to try that do not have solutions but maybe have an answer or benchmark to facilitate understanding\n",
        "* __Next steps__\n",
        "  * Potential follow on material\n",
        "  * Other relevant notebooks\n",
        "* __Examples in the community__\n",
        "* __Data statement__\n",
        "* __References__\n",
        "\n",
        "\n",
        "As you fill out your notebook, make sure to delete the suggestion text.\n",
        "\n",
        "The notebook template is maintained by Chris Slocum (christopher.slocum@noaa.gov) and Douglas Rao (douglas.rao@noaa.gov)."
      ]
    },
    {
      "cell_type": "markdown",
      "metadata": {
        "id": "cqZlx4j3-6p1"
      },
      "source": [
        ""
      ]
    },
    {
      "cell_type": "markdown",
      "metadata": {
        "id": "7w5yf_G4nA3G"
      },
      "source": [
        "# Notebook Title\n",
        "\n",
        " * Creator(s)\n",
        " * Affiliation\n",
        " * History\n",
        "\n",
        "\n",
        "\n",
        "---\n",
        "\n",
        "\n",
        "## Overview\n",
        "In this section, include an overview of what this notebook will cover. Consider this an elevator speech for the notebook.\n",
        "\n",
        "### Prerequisites\n",
        "What information is needed to be successful in the notebook and provide links to other relevant material or external links. (We should maybe have a pool of resources that can be used here so that developers do not need to do an extensive search)\n",
        "\n",
        "### Targeted level\n",
        "What level of users (i.e., beginners, intermediate, or advanced users) is this notebook targeted to?\n",
        "\n",
        "### Learning outcomes\n",
        "* What should someone learn from this notebook?\n",
        "* What might someone be able to do once done?\n",
        "\n",
        "\n",
        "---\n",
        "\n"
      ]
    },
    {
      "cell_type": "markdown",
      "metadata": {
        "id": "HK8zv84EpPmN"
      },
      "source": [
        "## Tutorial Material\n",
        "Content or sections to incorporate here\n",
        "1. Provide background\n",
        "  * to the science problem, and\n",
        "  * to the ML problem\n",
        "2. Basic examples with toy data\n",
        "3. More complicated example ideally with data familiar to the community\n",
        "\n",
        "### Software section\n",
        "A seperate code cell with scripts for installing any dependencies that are not likely to be in a standard anaconda python environment. This cell can be commented out but should aid portability to other platforms besides colab for users.\n",
        "\n",
        "### Data section, optional\n",
        "Scripts for pulling the data into the notebook with sufficient comments to help users to understand the process."
      ]
    },
    {
      "cell_type": "markdown",
      "metadata": {
        "id": "v5dQUXBCp6nv"
      },
      "source": [
        "\n",
        "\n",
        "---\n",
        "\n",
        "\n",
        "##Exercises\n",
        "\n",
        "These should be extensions from the examples used above. The answers should be straightfoward to get to. If a question includes additional outside material, make sure to link to a resource."
      ]
    },
    {
      "cell_type": "markdown",
      "metadata": {
        "id": "LutrFau_rw1i"
      },
      "source": [
        "## Next steps\n",
        "Now that the student has learned the material, what is the next notebook either in for a series or related material."
      ]
    },
    {
      "cell_type": "markdown",
      "metadata": {
        "id": "Kj_uyeIxrHVC"
      },
      "source": [
        "## Examples in the community\n",
        "\n",
        "What are some real world examples of how this information was used that are relevant to the community?"
      ]
    },
    {
      "cell_type": "markdown",
      "metadata": {
        "id": "fKzABhkLNJUa"
      },
      "source": [
        "## Data statement\n",
        "Link to the dataset(s) used in the example and/or additional information about the dataset. All data used in these examples should be in the public domain and easily accessible."
      ]
    },
    {
      "cell_type": "markdown",
      "metadata": {
        "id": "QIP46U65rS2A"
      },
      "source": [
        "## References\n",
        "\n",
        "If material in the notebook was adapted from other source material, link to it.\n",
        "\n",
        "Also, add other material either cited in the text or that extends content in the notebook."
      ]
    },
    {
      "cell_type": "markdown",
      "metadata": {
        "id": "-5nSI21wpf6J"
      },
      "source": [
        "##Metadata\n",
        " * Language / package(s)\n",
        " * Scientific domain\n",
        " * Application keywords\n",
        " * Geophysical keywords\n",
        " * AI keywords"
      ]
    },
    {
      "cell_type": "markdown",
      "metadata": {
        "id": "djJuCUaIQf6T"
      },
      "source": [
        "## License\n",
        "\n",
        "The following suggestion is adopted from [The Carpentries](https://docs.carpentries.org/LICENSE.html). We strongly recommend to establish an institutional guideline on the license. \n",
        "\n",
        "### Software license\n",
        "Select one of the following open-source, permissive licenses. If you are not sure what software license you should use, you can refer to [this introduction article](https://exygy.com/blog/which-license-should-i-use-mit-vs-apache-vs-gpl/) or talk with your institutional legal professionals. \n",
        "* The GPL license\n",
        "* The MIT license\n",
        "* The Apache license\n",
        "* The BSD license\n",
        "\n",
        "### Content/description license\n",
        "Please select one of the following Creative Commons attribution licenses\n",
        "* CC BY 4.0"
      ]
    },
    {
      "cell_type": "markdown",
      "metadata": {
        "id": "snl2NCYXUT6i"
      },
      "source": [
        "## Disclaimer (Optional)\n",
        "\n",
        "Insert any disclaimer that is relevant to the community. Below is an example from NOAA. \n",
        "\n",
        "> This Jupyter notebook is a scientific product and is not official communication of the National Oceanic and Atmospheric Administration, or the United States Department of Commerce. All NOAA Jupyter notebooks are provided on an 'as is' basis and the user assumes responsibility for its use. Any claims against the Department of Commerce or Department of Commerce bureaus stemming from the use of this Jupyter notebook will be governed by all applicable Federal law. Any reference to specific commercial products, processes, or services by service mark, trademark, manufacturer, or otherwise does not constitute or imply their endorsement, recommendation or favoring by the Department of Commerce. The Department of Commerce seal and logo, or the seal and logo of a DOC bureau, shall not be used in any manner to imply endorsement of any commercial product or activity by DOC or the United States Government."
      ]
    }
  ]
}